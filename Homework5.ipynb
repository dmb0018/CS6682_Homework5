{
  "nbformat": 4,
  "nbformat_minor": 0,
  "metadata": {
    "colab": {
      "provenance": [],
      "authorship_tag": "ABX9TyNXgD4HltlvQNEe9kg1oL28",
      "include_colab_link": true
    },
    "kernelspec": {
      "name": "python3",
      "display_name": "Python 3"
    },
    "language_info": {
      "name": "python"
    }
  },
  "cells": [
    {
      "cell_type": "markdown",
      "metadata": {
        "id": "view-in-github",
        "colab_type": "text"
      },
      "source": [
        "<a href=\"https://colab.research.google.com/github/dmb0018/CS6682_Homework5/blob/main/Homework5.ipynb\" target=\"_parent\"><img src=\"https://colab.research.google.com/assets/colab-badge.svg\" alt=\"Open In Colab\"/></a>"
      ]
    },
    {
      "cell_type": "markdown",
      "source": [
        "David Bryant\n",
        "\n",
        "\n",
        "\n",
        "---\n",
        "\n",
        "\n",
        "CS 6682 - Machine Learning\n",
        "\n",
        "---\n",
        "\n",
        "\n",
        "Homework 5\n",
        "\n"
      ],
      "metadata": {
        "id": "CED2aff4N5j7"
      }
    },
    {
      "cell_type": "code",
      "source": [
        "from google.colab import drive\n",
        "drive.mount('/content/drive')"
      ],
      "metadata": {
        "colab": {
          "base_uri": "https://localhost:8080/"
        },
        "id": "qkzSPJaORId8",
        "outputId": "8cec9bdc-1919-4ae7-e2bd-7105c90484f9"
      },
      "execution_count": null,
      "outputs": [
        {
          "output_type": "stream",
          "name": "stdout",
          "text": [
            "Mounted at /content/drive\n"
          ]
        }
      ]
    },
    {
      "cell_type": "code",
      "source": [
        "import pandas as pd\n",
        "import numpy as np\n",
        "from pandas import Series, DataFrame\n",
        "\n",
        "import seaborn as sb\n",
        "import matplotlib.pyplot as plt\n",
        "\n",
        "import sklearn\n",
        "from sklearn.preprocessing import StandardScaler\n",
        "from sklearn.linear_model import LogisticRegression\n",
        "from sklearn.model_selection import train_test_split\n",
        "from sklearn import metrics\n",
        "from sklearn import preprocessing\n",
        "from sklearn import svm\n",
        "import sys"
      ],
      "metadata": {
        "id": "qKqPXhE1tS0G"
      },
      "execution_count": null,
      "outputs": []
    },
    {
      "cell_type": "code",
      "source": [
        "# Upload two csv files\n",
        "path_weather = \"/content/drive/My Drive/ML_Homework/weatherAUS.csv\"\n",
        "df_weather = pd.read_csv(path_weather)\n",
        "\n",
        "# Find number of rows and columns for the data\n",
        "num_rows = df_weather.shape[0]\n",
        "num_columns = df_weather.shape[1]\n",
        "\n",
        "#Make display show all rows and columns\n",
        "pd.options.display.max_rows = None\n",
        "pd.options.display.max_columns = None\n",
        "\n",
        "# Set printing options to only show 10 lines\n",
        "np.set_printoptions(threshold=10)\n",
        "\n",
        "# Provides number of empty data slots in each column of data frame\n",
        "isNullColumns = df_weather.isnull().sum()/num_rows\n",
        "\n",
        "# Create some constants for max number of columns to delte and min threshold for having missing data\n",
        "possible_columns_to_delete = 10\n",
        "minimum_threshold = 0.3  # If 30 percent of data is missing then assign column to be deleted\n",
        "count = 0\n",
        "\n",
        "# Create array to hold the column index values that are going to be deleted\n",
        "columns_to_delete = [-1]*possible_columns_to_delete\n",
        "\n",
        "# For loop to find columns that don't meet minimum threshold of nonmissing data\n",
        "for x in range(num_columns):\n",
        "  if isNullColumns[x] > minimum_threshold:\n",
        "    columns_to_delete[count] = x\n",
        "    count = count +1\n",
        "\n",
        "# Needed to adjust the columns index once columns are deleted\n",
        "current_subtract = 0\n",
        "\n",
        "# For loop to remove columns\n",
        "for x in range(possible_columns_to_delete):\n",
        "  if columns_to_delete[x] > -1:\n",
        "    df_weather.drop(df_weather.columns[[columns_to_delete[x]-current_subtract]], axis=1, inplace=True)\n",
        "    current_subtract = current_subtract +1\n",
        "\n",
        "obj_weather = df_weather.select_dtypes(include=['object']).copy()\n",
        "\n",
        "# Replace the missing values in each column with the previous volumn in the column\n",
        "obj_weather_filled = obj_weather.fillna(method = 'pad')\n",
        "\n",
        "# For the float columns, replace the missing values with the mean of that column\n",
        "df_weather = df_weather.fillna(df_weather.mean())\n",
        "\n",
        "\n",
        "# Take Object data frame and make them categories and use categories for each column\n",
        "obj_weather_filled = obj_weather_filled.astype('category')\n",
        "obj_weather_filled['Location'] = obj_weather_filled['Location'].cat.codes\n",
        "obj_weather_filled['WindGustDir'] = obj_weather_filled['WindGustDir'].cat.codes\n",
        "obj_weather_filled['WindDir9am'] = obj_weather_filled['WindDir9am'].cat.codes\n",
        "obj_weather_filled['WindDir3pm'] = obj_weather_filled['WindDir3pm'].cat.codes\n",
        "obj_weather_filled['RainToday'] = obj_weather_filled['RainToday'].cat.codes\n",
        "obj_weather_filled['RainTomorrow'] = obj_weather_filled['RainTomorrow'].cat.codes\n",
        "\n",
        "#Put Category columns back into main data frame\n",
        "df_weather['Location'] = obj_weather_filled['Location']\n",
        "df_weather['WindGustDir'] = obj_weather_filled['WindGustDir']\n",
        "df_weather['WindDir9am'] = obj_weather_filled['WindDir9am']\n",
        "df_weather['WindDir3pm'] = obj_weather_filled['WindDir3pm']\n",
        "df_weather['RainToday'] = obj_weather_filled['RainToday']\n",
        "df_weather['RainTomorrow'] = obj_weather_filled['RainTomorrow']\n",
        "\n",
        "# Find what correlates most with Rain Today\n",
        "correlations = df_weather.corr(numeric_only = True)\n",
        "correlations_sorted = correlations.sort_values(['RainToday'], ascending=False)\n",
        "pd.options.display.max_rows = None\n",
        "print(correlations_sorted['RainToday'])"
      ],
      "metadata": {
        "colab": {
          "base_uri": "https://localhost:8080/"
        },
        "id": "vWKPH76iQITZ",
        "outputId": "e402519a-0ad2-43bc-f534-d196f2853cc7"
      },
      "execution_count": null,
      "outputs": [
        {
          "output_type": "stream",
          "name": "stdout",
          "text": [
            "RainToday        1.000000\n",
            "Rainfall         0.495050\n",
            "Humidity3pm      0.369752\n",
            "Humidity9am      0.347865\n",
            "RainTomorrow     0.328328\n",
            "WindDir9am       0.160779\n",
            "WindGustSpeed    0.146034\n",
            "WindGustDir      0.128814\n",
            "WindDir3pm       0.122118\n",
            "WindSpeed9am     0.100296\n",
            "WindSpeed3pm     0.077143\n",
            "MinTemp          0.052448\n",
            "Location         0.000792\n",
            "Pressure3pm     -0.097494\n",
            "Temp9am         -0.097718\n",
            "Pressure9am     -0.175766\n",
            "MaxTemp         -0.228588\n",
            "Temp3pm         -0.232221\n",
            "Name: RainToday, dtype: float64\n"
          ]
        },
        {
          "output_type": "stream",
          "name": "stderr",
          "text": [
            "<ipython-input-3-0ab3e9724c7c>:48: FutureWarning: The default value of numeric_only in DataFrame.mean is deprecated. In a future version, it will default to False. In addition, specifying 'numeric_only=None' is deprecated. Select only valid columns or specify the value of numeric_only to silence this warning.\n",
            "  df_weather = df_weather.fillna(df_weather.mean())\n"
          ]
        }
      ]
    },
    {
      "cell_type": "code",
      "source": [
        "# Confirming that Rain Today is binary as expected\n",
        "sb.countplot(x='RainToday', data = df_weather)"
      ],
      "metadata": {
        "colab": {
          "base_uri": "https://localhost:8080/",
          "height": 467
        },
        "id": "g9GQu6I0coNN",
        "outputId": "c4331219-445c-4888-cd51-26d736187020"
      },
      "execution_count": null,
      "outputs": [
        {
          "output_type": "execute_result",
          "data": {
            "text/plain": [
              "<Axes: xlabel='RainToday', ylabel='count'>"
            ]
          },
          "metadata": {},
          "execution_count": 4
        },
        {
          "output_type": "display_data",
          "data": {
            "text/plain": [
              "<Figure size 640x480 with 1 Axes>"
            ],
            "image/png": "[encoded data removed]"
          },
          "metadata": {}
        }
      ]
    },
    {
      "cell_type": "code",
      "source": [
        "# Item attempting to predict is Rain Today\n",
        "y = df_weather['RainToday']\n",
        "\n",
        "# Did not choose Rainfall even though it was better correlated as it seemed to not be independent - If rain happened, it directly lead to rainfall being a higher number than 0\n",
        "\n",
        "important_data = df_weather.filter(['Humidity3pm','Humidity9am','RainTomorrow'],axis =1)\n",
        "print(important_data.info())"
      ],
      "metadata": {
        "colab": {
          "base_uri": "https://localhost:8080/"
        },
        "id": "mTqmZr5FjZUm",
        "outputId": "067e1b96-ee58-4bf8-d6e5-75e0a5492f5e"
      },
      "execution_count": null,
      "outputs": [
        {
          "output_type": "stream",
          "name": "stdout",
          "text": [
            "<class 'pandas.core.frame.DataFrame'>\n",
            "RangeIndex: 145460 entries, 0 to 145459\n",
            "Data columns (total 3 columns):\n",
            " #   Column        Non-Null Count   Dtype  \n",
            "---  ------        --------------   -----  \n",
            " 0   Humidity3pm   145460 non-null  float64\n",
            " 1   Humidity9am   145460 non-null  float64\n",
            " 2   RainTomorrow  145460 non-null  int8   \n",
            "dtypes: float64(2), int8(1)\n",
            "memory usage: 2.4 MB\n",
            "None\n"
          ]
        }
      ]
    },
    {
      "cell_type": "code",
      "source": [
        "# Create object for standard scaler\n",
        "scaler = StandardScaler()\n",
        "X = important_data\n",
        "\n",
        "# Create training and testing data\n",
        "X_train, X_test, y_train, y_test  = train_test_split(X,y,test_size = 0.1, random_state = 26)\n",
        "\n",
        "#fit the training data and scale the train and test data\n",
        "scaler.fit(X_train)\n",
        "X_train_scaled = scaler.transform(X_train)\n",
        "X_test_scaled = scaler.transform(X_test)\n",
        "X_train_scaled = pd.DataFrame(X_train_scaled, columns = X_train.columns)\n",
        "X_test_scaled = pd.DataFrame(X_test_scaled, columns = X_test.columns)\n",
        "\n",
        "# Perform logistic regression\n",
        "LogReg = LogisticRegression()\n",
        "model = LogReg.fit(X_train_scaled,y_train)\n",
        "\n",
        "# Train on 90 percent of the data and test on 10% of the data\n",
        "print(\"The Logistic Regression score using a train of 90% and test of 10% is: \",model.score(X_train_scaled,y_train))\n",
        "y_pred_scaled = model.predict(X_test_scaled)\n",
        "print(metrics.classification_report(y_test,y_pred_scaled))\n"
      ],
      "metadata": {
        "colab": {
          "base_uri": "https://localhost:8080/"
        },
        "id": "O9IcVxy_d9lK",
        "outputId": "21dc4dda-4a09-479e-a759-7761914941b7"
      },
      "execution_count": 9,
      "outputs": [
        {
          "output_type": "stream",
          "name": "stdout",
          "text": [
            "The Logistic Regression score using a train of 90% and test of 10% is:  0.8087828650870037\n",
            "              precision    recall  f1-score   support\n",
            "\n",
            "           0       0.83      0.95      0.89     11305\n",
            "           1       0.64      0.34      0.44      3241\n",
            "\n",
            "    accuracy                           0.81     14546\n",
            "   macro avg       0.74      0.64      0.66     14546\n",
            "weighted avg       0.79      0.81      0.79     14546\n",
            "\n"
          ]
        }
      ]
    },
    {
      "cell_type": "code",
      "source": [
        "# Wanted to do one comparison with Only rain today and date removed from the data frame and see which was better\n",
        "X2 = df_weather.drop(columns = 'Date')\n",
        "X2 = X2.drop(columns = 'RainToday')\n",
        "\n",
        "# Create training and testing data\n",
        "X2_train, X2_test, y2_train, y2_test  = train_test_split(X2,y,test_size = 0.1, random_state = 26)\n",
        "\n",
        "#fit the training data and scale the train and test data\n",
        "scaler.fit(X2_train)\n",
        "X2_train_scaled = scaler.transform(X2_train)\n",
        "X2_test_scaled = scaler.transform(X2_test)\n",
        "X2_train_scaled = pd.DataFrame(X2_train_scaled, columns = X2_train.columns)\n",
        "X2_test_scaled = pd.DataFrame(X2_test_scaled, columns = X2_test.columns)\n",
        "\n",
        "# Perform logistic regression\n",
        "LogReg = LogisticRegression()\n",
        "model = LogReg.fit(X2_train_scaled,y_train)\n",
        "\n",
        "# Train on 90 percent of the data and test on 10% of the data\n",
        "print(\"The Logistic Regression score using a train of 90% and test of 10% is: \",model.score(X2_train_scaled,y_train))\n",
        "y_pred_scaled2 = model.predict(X2_test_scaled)\n",
        "print(metrics.classification_report(y2_test,y_pred_scaled2))"
      ],
      "metadata": {
        "colab": {
          "base_uri": "https://localhost:8080/"
        },
        "id": "le-89Rkmravs",
        "outputId": "d8a7f6e4-3c65-4f6a-c0e2-8e27abbed54a"
      },
      "execution_count": 10,
      "outputs": [
        {
          "output_type": "stream",
          "name": "stdout",
          "text": [
            "The Logistic Regression score using a train of 90% and test of 10% is:  0.9638464946453397\n",
            "              precision    recall  f1-score   support\n",
            "\n",
            "           0       0.98      0.98      0.98     11305\n",
            "           1       0.93      0.92      0.92      3241\n",
            "\n",
            "    accuracy                           0.96     14546\n",
            "   macro avg       0.95      0.95      0.95     14546\n",
            "weighted avg       0.96      0.96      0.96     14546\n",
            "\n"
          ]
        }
      ]
    },
    {
      "cell_type": "code",
      "source": [
        "X3 = df_weather.drop(columns = 'Date')\n",
        "X3 = X3.drop(columns = 'RainToday')\n",
        "\n",
        "# Create training and testing data\n",
        "X3_train, X3_test, y3_train, y3_test  = train_test_split(X3,y,test_size = 0.1, random_state = 26)\n",
        "\n",
        "#fit the training data and scale the train and test data\n",
        "scaler.fit(X3_train)\n",
        "X3_train_scaled = scaler.transform(X3_train)\n",
        "X3_test_scaled = scaler.transform(X3_test)\n",
        "X3_train_scaled = pd.DataFrame(X3_train_scaled, columns = X3_train.columns)\n",
        "X3_test_scaled = pd.DataFrame(X3_test_scaled, columns = X3_test.columns)\n",
        "\n",
        "# Perform linear model, polynomial model, and radial basis function model\n",
        "svm_model_1 = svm.LinearSVC(C=1)\n",
        "svm_model_2 = svm.SVC(kernel='poly',degree = 2)\n",
        "svm_model_3 = svm.SVC(kernel='rbf',C=1, gamma =1)\n",
        "\n",
        "# Fit the models to the data\n",
        "svm_model_1.fit(X3_train_scaled,y3_train)\n",
        "svm_model_2.fit(X3_train_scaled,y3_train)\n",
        "svm_model_3.fit(X3_train_scaled,y3_train)\n",
        "\n",
        "# Test the predicition capabilities of the model\n",
        "y_pred3 = svm_model_1.predict(X3_test_scaled)\n",
        "y_pred4 = svm_model_2.predict(X3_test_scaled)\n",
        "y_pred5 = svm_model_3.predict(X3_test_scaled)\n",
        "\n",
        "# Print the accuracy results of the prediction\n",
        "print(\"The SVM score using a linear model and a training percent of 90% and a test of 10% is: \", metrics.accuracy_score(y3_test, y_pred3))\n",
        "print(\"The SVM score using a polynomial model with a degree of 2 and a training percent of 90% and a test of 10% is: \", metrics.accuracy_score(y3_test, y_pred4))\n",
        "print(\"The SVM score using a radial basis function model and a training percent of 90% and a test of 10% is: \", metrics.accuracy_score(y3_test, y_pred5))\n"
      ],
      "metadata": {
        "colab": {
          "base_uri": "https://localhost:8080/"
        },
        "id": "CDxr3fHEEvWz",
        "outputId": "88f5edbb-1634-4406-e0fb-bbd94cea51b2"
      },
      "execution_count": null,
      "outputs": [
        {
          "output_type": "stream",
          "name": "stderr",
          "text": [
            "/usr/local/lib/python3.10/dist-packages/sklearn/svm/_base.py:1244: ConvergenceWarning: Liblinear failed to converge, increase the number of iterations.\n",
            "  warnings.warn(\n"
          ]
        },
        {
          "output_type": "stream",
          "name": "stdout",
          "text": [
            "The SVM score using a linear model and a training percent of 90% and a test of 10% is:  0.9661075209679637\n",
            "The SVM score using a polynomial model with a degree of 2 and a training percent of 90% and a test of 10% is:  0.8778358311563317\n",
            "The SVM score using a radial basis function model and a training percent of 90% and a test of 10% is:  0.8653925477794583\n"
          ]
        }
      ]
    },
    {
      "cell_type": "code",
      "source": [
        "# Print classification reports for the three different SVM model\n",
        "print(\"Classification report for linear model:\")\n",
        "print(metrics.classification_report(y3_test,y_pred3))\n",
        "print(\"\\nClassification report for polynomial model:\")\n",
        "print(metrics.classification_report(y3_test,y_pred4))\n",
        "print(\"\\nClassification report for radial basis function model:\")\n",
        "print(metrics.classification_report(y3_test,y_pred5))"
      ],
      "metadata": {
        "colab": {
          "base_uri": "https://localhost:8080/"
        },
        "id": "hAEFOWY1Z8YA",
        "outputId": "2891d274-2149-4c9d-c76c-7c5066b21a51"
      },
      "execution_count": 11,
      "outputs": [
        {
          "output_type": "stream",
          "name": "stdout",
          "text": [
            "Classification report for linear model:\n",
            "              precision    recall  f1-score   support\n",
            "\n",
            "           0       0.98      0.98      0.98     11305\n",
            "           1       0.92      0.92      0.92      3241\n",
            "\n",
            "    accuracy                           0.97     14546\n",
            "   macro avg       0.95      0.95      0.95     14546\n",
            "weighted avg       0.97      0.97      0.97     14546\n",
            "\n",
            "\n",
            "Classification report for polynomial model:\n",
            "              precision    recall  f1-score   support\n",
            "\n",
            "           0       0.86      1.00      0.93     11305\n",
            "           1       1.00      0.45      0.62      3241\n",
            "\n",
            "    accuracy                           0.88     14546\n",
            "   macro avg       0.93      0.73      0.77     14546\n",
            "weighted avg       0.89      0.88      0.86     14546\n",
            "\n",
            "\n",
            "Classification report for radial basis function model:\n",
            "              precision    recall  f1-score   support\n",
            "\n",
            "           0       0.86      0.99      0.92     11305\n",
            "           1       0.94      0.42      0.58      3241\n",
            "\n",
            "    accuracy                           0.87     14546\n",
            "   macro avg       0.90      0.71      0.75     14546\n",
            "weighted avg       0.88      0.87      0.84     14546\n",
            "\n"
          ]
        }
      ]
    }
  ]
}